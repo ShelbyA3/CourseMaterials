{
 "cells": [
  {
   "cell_type": "markdown",
   "id": "90c32b4b-abb4-431a-90c2-4ab0bcb71d3d",
   "metadata": {},
   "source": [
    "Introduction to Bioinformatics.\n",
    "<html>\n",
    "    <summary></summary>\n",
    "         <div> <p></p> </div>\n",
    "         <div style=\"font-size: 20px; width: 800px;\"> \n",
    "              <h1>\n",
    "               <left>Intro to Bioinformatics in Python: downloading, analyzing sequences, and comparing biological sequences.</left>\n",
    "              </h1>\n",
    "              <p><left>============================================================================</left> </p>\n",
    "<pre>Course: BIOM 421, Spring 2024\n",
    "Instructor: Brian Munsky\n",
    "Contact Info: munsky@colostate.edu\n",
    "</pre>\n",
    "         </div>\n",
    "    </p>\n",
    "\n",
    "</html>\n",
    "\n",
    "<details>\n",
    "  <summary>Copyright info</summary>\n",
    "\n",
    "```\n",
    "Copyright 2024 Brian Munsky\n",
    "\n",
    "Redistribution and use in source and binary forms, with or without modification, are permitted provided that the following conditions are met:\n",
    "\n",
    "1. Redistributions of source code must retain the above copyright notice, this list of conditions and the following disclaimer.\n",
    "\n",
    "2. Redistributions in binary form must reproduce the above copyright notice, this list of conditions and the following disclaimer in the documentation and/or other materials provided with the distribution.\n",
    "\n",
    "3. Neither the name of the copyright holder nor the names of its contributors may be used to endorse or promote products derived from this software without specific prior written permission.\n",
    "\n",
    "THIS SOFTWARE IS PROVIDED BY THE COPYRIGHT HOLDERS AND CONTRIBUTORS \"AS IS\" AND ANY EXPRESS OR IMPLIED WARRANTIES, INCLUDING, BUT NOT LIMITED TO, THE IMPLIED WARRANTIES OF MERCHANTABILITY AND FITNESS FOR A PARTICULAR PURPOSE ARE DISCLAIMED. IN NO EVENT SHALL THE COPYRIGHT HOLDER OR CONTRIBUTORS BE LIABLE FOR ANY DIRECT, INDIRECT, INCIDENTAL, SPECIAL, EXEMPLARY, OR CONSEQUENTIAL DAMAGES (INCLUDING, BUT NOT LIMITED TO, PROCUREMENT OF SUBSTITUTE GOODS OR SERVICES; LOSS OF USE, DATA, OR PROFITS; OR BUSINESS INTERRUPTION) HOWEVER CAUSED AND ON ANY THEORY OF LIABILITY, WHETHER IN CONTRACT, STRICT LIABILITY, OR TORT (INCLUDING NEGLIGENCE OR OTHERWISE) ARISING IN ANY WAY OUT OF THE USE OF THIS SOFTWARE, EVEN IF ADVISED OF THE POSSIBILITY OF SUCH DAMAGE.\n",
    "```\n",
    "<details>\n",
    "\n"
   ]
  },
  {
   "cell_type": "markdown",
   "id": "bda36f7b",
   "metadata": {},
   "source": [
    "# Lesson Overview\n",
    "In this lesson, we are going to use some common sequence manipulation and search tools to learn about the DNA, RNA and proteins related to the Corona Virus.\n",
    "\n",
    "# I) Genomic Sequence Analysis\n",
    "\n",
    "## 1) Downloading genomic data from an online database\n",
    "First, we need to download information about corona virus from the genbank data base.  I did a quick internet seach and found that an accession number from Severe acute respiratory syndrome coronavirus 2 isolate  Wuhan-Hu-1, complete genome: MN908947."
   ]
  },
  {
   "cell_type": "code",
   "execution_count": 1,
   "id": "33813934",
   "metadata": {},
   "outputs": [
    {
     "name": "stderr",
     "output_type": "stream",
     "text": [
      "/Users/shelbyardehali/anaconda3/envs/ShelbyBIOM421/lib/python3.11/site-packages/Bio/pairwise2.py:278: BiopythonDeprecationWarning: Bio.pairwise2 has been deprecated, and we intend to remove it in a future release of Biopython. As an alternative, please consider using Bio.Align.PairwiseAligner as a replacement, and contact the Biopython developers if you still need the Bio.pairwise2 module.\n",
      "  warnings.warn(\n"
     ]
    }
   ],
   "source": [
    "%pip install biopython\n",
    "%pip install Bio\n",
    "import Bio\n",
    "from Bio import Entrez, SeqIO, pairwise2, AlignIO, Phylo\n",
    "from Bio.Blast import NCBIWWW, NCBIXML\n",
    "from Bio.Seq import Seq\n",
    "from Bio.SeqRecord import SeqRecord\n",
    "from Bio.SeqUtils import ProtParam\n",
    "from Bio.Phylo.TreeConstruction import DistanceCalculator, DistanceTreeConstructor\n",
    "\n",
    "import matplotlib.pyplot as plt\n",
    "import matplotlib.image as mpimg\n",
    "import webbrowser\n",
    "#\n",
    "import os\n",
    "import threading"
   ]
  },
  {
   "cell_type": "code",
   "execution_count": null,
   "id": "be8a729a-014d-472e-96d1-5dbf270cf317",
   "metadata": {},
   "outputs": [],
   "source": [
    "from Bio import Align\n",
    "from Bio.Align import Alignment\n",
    "from pymsaviz import MsaViz"
   ]
  },
  {
   "cell_type": "code",
   "execution_count": null,
   "id": "a750f91b-5d63-4be6-a627-2864fd3d56e8",
   "metadata": {},
   "outputs": [],
   "source": [
    "#(PRELIMINARIES) Let's download the COVID19 virus sequence from NCBI\n",
    "# Provide your email for accessing NCBI\n",
    "Entrez.email = \"shelby4615a@gmail.com\"  # Insert your email here\n",
    "\n",
    "def get_genbank(accession_number):\n",
    "    handle = Entrez.efetch(db=\"nucleotide\", id=accession_number, rettype=\"gb\", retmode=\"text\")\n",
    "    record = SeqIO.read(handle, \"genbank\")\n",
    "    handle.close()\n",
    "    return record\n",
    "\n",
    "corona_virus = get_genbank(\"MN908947\")"
   ]
  },
  {
   "cell_type": "markdown",
   "id": "bba26f20",
   "metadata": {},
   "source": [
    "### 1.A) Exploring features of genomic data\n",
    "\n",
    "Now that we have the data, let's explore to see what information is available to us:"
   ]
  },
  {
   "cell_type": "code",
   "execution_count": null,
   "id": "8d78b9bf",
   "metadata": {},
   "outputs": [],
   "source": [
    "# Let's look at what kinds of information are available to use in the data set:\n",
    "print(corona_virus)"
   ]
  },
  {
   "cell_type": "code",
   "execution_count": null,
   "id": "89c207a5",
   "metadata": {},
   "outputs": [],
   "source": [
    "# Print the first 1000 nucleotides.\n",
    "print(corona_virus.seq[0:1000])         # Output the sequence to screen."
   ]
  },
  {
   "cell_type": "code",
   "execution_count": null,
   "id": "5e1d724e",
   "metadata": {},
   "outputs": [],
   "source": [
    "# Find the length of the sequence\n",
    "len(corona_virus.seq)  # Find the length of the sequence."
   ]
  },
  {
   "cell_type": "code",
   "execution_count": null,
   "id": "c5305149",
   "metadata": {},
   "outputs": [],
   "source": [
    "# Explore what annotations are made about the sequence\n",
    "corona_virus.annotations"
   ]
  },
  {
   "cell_type": "code",
   "execution_count": null,
   "id": "9d57bd27",
   "metadata": {},
   "outputs": [],
   "source": [
    "# What is the taxonomy of the sequence?\n",
    "corona_virus.annotations['taxonomy']"
   ]
  },
  {
   "cell_type": "code",
   "execution_count": null,
   "id": "2b763784",
   "metadata": {},
   "outputs": [],
   "source": [
    "# What is the accession number?\n",
    "corona_virus.annotations['accessions']"
   ]
  },
  {
   "cell_type": "code",
   "execution_count": null,
   "id": "32b8b8f8",
   "metadata": {},
   "outputs": [],
   "source": [
    "# Let's get more information by going directly to the sequence entry on NCBI.\n",
    "sequence_link = 'https://www.ncbi.nlm.nih.gov/nuccore/' + corona_virus.annotations['accessions'][0]\n",
    "webbrowser.open_new(sequence_link)"
   ]
  },
  {
   "cell_type": "code",
   "execution_count": null,
   "id": "e5e19912",
   "metadata": {},
   "outputs": [],
   "source": [
    "# We can get even more information about the sequence by looking \n",
    "# at the original paper that described this sequence.  For this, \n",
    "# we will first need the PUBMED ID number:\n",
    "print(corona_virus.annotations['references'][0].pubmed_id)\n",
    "\n",
    "# With that we can launch a browser and find the article:\n",
    "pubmed_link = 'https://www.ncbi.nlm.nih.gov/pubmed/' + corona_virus.annotations['references'][0].pubmed_id\n",
    "webbrowser.open_new(pubmed_link)"
   ]
  },
  {
   "cell_type": "code",
   "execution_count": null,
   "id": "bfbe4f1b",
   "metadata": {},
   "outputs": [],
   "source": [
    "# Let's make a pie chart of the number of each nucleotide:\n",
    "\n",
    "seq = str(corona_virus.seq)\n",
    "neucleotides = 'ATGC'\n",
    "counts = []\n",
    "for i in range(4):\n",
    "    counts.append(seq.count(neucleotides[i]))\n",
    "\n",
    "plt.figure(figsize=(2.5, 2.5), dpi=200)\n",
    "plt.pie(counts, labels=neucleotides, autopct='%1.1f%%')\n",
    "plt.title('Nucleotide Counts')\n",
    "plt.show()"
   ]
  },
  {
   "cell_type": "code",
   "execution_count": null,
   "id": "b778ffcb",
   "metadata": {},
   "outputs": [],
   "source": [
    "# Let's do the same thing, but for dimers:\n",
    "neucleotides = 'ATGC'\n",
    "labels = []\n",
    "dimerDict = {}\n",
    "for i in range(4):\n",
    "    for j in range(4):\n",
    "        labels.append(neucleotides[i]+neucleotides[j])\n",
    "        dimerDict[neucleotides[i]+neucleotides[j]] = 0\n",
    "for i in range(len(corona_virus.seq)-1):\n",
    "    dimerDict[corona_virus.seq[i:i+2]] += 1\n",
    "\n",
    "# Check that the sum is correct\n",
    "print(f'the sum of the dimers is = {sum([dimerDict[i] for i in dimerDict])}')\n",
    "print(f'the length - 1 of the sequence is = {len(corona_virus.seq)-1}')  \n",
    "\n",
    "plt.figure(figsize=(4, 4), dpi=200)\n",
    "plt.pie([dimerDict[i] for i in dimerDict], labels=[i for i in dimerDict], autopct='%1.1f%%')\n",
    "plt.title('Dimer Counts')\n",
    "plt.show()"
   ]
  },
  {
   "cell_type": "markdown",
   "id": "ae6727d8-27ca-47be-aa51-45a9cd68736c",
   "metadata": {},
   "source": [
    "### 1.B) Visualizing translation open reading frames\n",
    "In the next cell, we examine a sequence to find what its sequence would translate to in amino acids, and then we plot all of the open reading frames (ORFs) in each frame."
   ]
  },
  {
   "cell_type": "code",
   "execution_count": null,
   "id": "799b92f3-ef6f-4336-9d64-f0ae33df4f91",
   "metadata": {
    "tags": []
   },
   "outputs": [],
   "source": [
    "# Print the AA sequence that would be coded for each frame:\n",
    "frame = 0\n",
    "AA_frame = corona_virus[frame:].translate(to_stop=False)\n",
    "print(AA_frame.seq[1:1000])"
   ]
  },
  {
   "cell_type": "code",
   "execution_count": null,
   "id": "a0e43cf7-1839-4f9e-984e-ae45ec632be2",
   "metadata": {
    "tags": []
   },
   "outputs": [],
   "source": [
    "# Now, let's make a plot of the open reading frames to show where they are on the sequence.\n",
    "\n",
    "# Function to find ORFs in all frames of a sequence\n",
    "def find_all_orfs(sequence):\n",
    "    orf_list = []           # List of all the ORF we find\n",
    "    for frame in range(3):  # Check each of the three reading frames\n",
    "        orfs = []           # List of ORFs for the current frame   \n",
    "        lastStop = frame    # Position of last stop codon.\n",
    "        for orf in sequence[frame:].translate(to_stop=False).split('*'):     # Translate the curent frame sequence into AA and break up by stop codons\n",
    "            if len(orf) > 30:                                                # Consider ORFs longer than 50 amino acids\n",
    "                start = lastStop + orf.find('M') * 3 if 'M' in orf else None # Update start codon position to next M, \n",
    "                stop = lastStop + (len(orf))*3 if 'M' in orf else None       # Update stop codon to next '*'\n",
    "                if start is not None and stop is not None:                   # In the coding region is >30AA\n",
    "                    orfs.append((start, stop))                                      # Append the start and stop positions for that ORF\n",
    "            lastStop += len(orf)*3 + 3           # Update the position of the last stop codon\n",
    "        orf_list.append(orfs)                    # Append the list of ORFs for the current frame\n",
    "    return orf_list\n",
    "\n",
    "# Find all ORFs in each frame of the sequence\n",
    "orf_positions = find_all_orfs(corona_virus.seq)\n",
    "\n",
    "# Visualize ORFs on the sequence for each frame\n",
    "plt.figure(figsize=(15, 3))\n",
    "colors = ['blue','black','purple']\n",
    "for frame, orfs in enumerate(orf_positions):\n",
    "    for start, stop in orfs:\n",
    "        plt.plot([start, stop], [frame, frame], marker='o', color=colors[frame], markersize=5)\n",
    "plt.title('Open Reading Frames in Each Frame')\n",
    "plt.xlabel('Position')\n",
    "plt.ylabel('Frame')\n",
    "plt.yticks([0, 1, 2], ['Frame 0', 'Frame 1', 'Frame 2'])\n",
    "plt.show()"
   ]
  },
  {
   "cell_type": "markdown",
   "id": "8de988c0-2eb8-48c7-8c39-309420998bc7",
   "metadata": {},
   "source": [
    "### 1.B) Exploring advanced features in the genome\n",
    "\n",
    "Here is an example for how to download the genbank file to disk so that you can analyse it later."
   ]
  },
  {
   "cell_type": "code",
   "execution_count": null,
   "id": "3bf03688-12a8-409a-a593-bfde81639e23",
   "metadata": {
    "tags": []
   },
   "outputs": [],
   "source": [
    "def download_genbank(accession_number, output_file):\n",
    "    try:\n",
    "        # Fetch the GenBank record\n",
    "        handle = Entrez.efetch(db=\"nucleotide\", id=accession_number, rettype=\"gb\", retmode=\"text\")\n",
    "\n",
    "        # Write the record to a file\n",
    "        with open(output_file, \"w\") as f:\n",
    "            f.write(handle.read())\n",
    "\n",
    "        print(f\"GenBank record downloaded and saved to {output_file}\")\n",
    "\n",
    "    except Exception as e:\n",
    "        print(f\"Error: {e}\")\n",
    "\n",
    "# Example: Download GenBank record for a given accession number\n",
    "accession_number = \"MN908947\"  # Replace with your accession number\n",
    "output_file = \"coronaVirus.gb\"\n",
    "\n",
    "download_genbank(accession_number, output_file)"
   ]
  },
  {
   "cell_type": "code",
   "execution_count": null,
   "id": "4d5ddfc7-1d69-4b92-88e2-b920c5fa43f7",
   "metadata": {
    "tags": []
   },
   "outputs": [],
   "source": [
    "# Now that the file is saved, you can re-open it to get the information.\n",
    "def extract_features(genbank_file):\n",
    "    for record in SeqIO.parse(genbank_file, 'genbank'):\n",
    "        for feature in record.features:\n",
    "            print(f\"Feature Type: {feature.type}\")\n",
    "            print(f\"Location: {feature.location}\")\n",
    "            print(f\"Qualifiers: {feature.qualifiers}\")\n",
    "\n",
    "extract_features(output_file)"
   ]
  },
  {
   "cell_type": "markdown",
   "id": "68931d6d",
   "metadata": {},
   "source": [
    "## 2) Comparing and Aligning Two Sequences"
   ]
  },
  {
   "cell_type": "code",
   "execution_count": null,
   "id": "0076b5c3",
   "metadata": {},
   "outputs": [],
   "source": [
    "# (ALIGNMENT) Lets try to align the virus sequence with the BioNTech/Phizer and Moderna vaccines\n",
    "#      First, lets create the sequences for the two vacines from the following paper: \n",
    "#      https://github.com/NAalytics/Assemblies-of-putative-SARS-CoV2-spike-encoding-mRNA-sequences-for-\n",
    "#          vaccines-BNT-162b2-and-mRNA-1273/blob/main/Assemblies%20of%20putative%20SARS-CoV2-spike-encoding\n",
    "#          %20mRNA%20sequences%20for%20vaccines%20BNT-162b2%20and%20mRNA-1273.docx.pdf\n",
    "BNT_Phizer = '''GAGAATAAACTAGTATTCTTCTGGTCCCCACAGACTCAGAGAGAACCCGCCACCATGTTCGTGTTCCTGGTGCTGCTGCCTCTGGTGTCCA\n",
    "GCCAGTGTGTGAACCTGACCACCAGAACACAGCTGCCTCCAGCCTACACCAACAGCTTTACCAGAGGCGTGTACTACCCCGACAAGGTGTT\n",
    "CAGATCCAGCGTGCTGCACTCTACCCAGGACCTGTTCCTGCCTTTCTTCAGCAACGTGACCTGGTTCCACGCCATCCACGTGTCCGGCACC\n",
    "AATGGCACCAAGAGATTCGACAACCCCGTGCTGCCCTTCAACGACGGGGTGTACTTTGCCAGCACCGAGAAGTCCAACATCATCAGAGGCT\n",
    "GGATCTTCGGCACCACACTGGACAGCAAGACCCAGAGCCTGCTGATCGTGAACAACGCCACCAACGTGGTCATCAAAGTGTGCGAGTTCCA\n",
    "GTTCTGCAACGACCCCTTCCTGGGCGTCTACTACCACAAGAACAACAAGAGCTGGATGGAAAGCGAGTTCCGGGTGTACAGCAGCGCCAAC\n",
    "AACTGCACCTTCGAGTACGTGTCCCAGCCTTTCCTGATGGACCTGGAAGGCAAGCAGGGCAACTTCAAGAACCTGCGCGAGTTCGTGTTTA\n",
    "AGAACATCGACGGCTACTTCAAGATCTACAGCAAGCACACCCCTATCAACCTCGTGCGGGATCTGCCTCAGGGCTTCTCTGCTCTGGAACC\n",
    "CCTGGTGGATCTGCCCATCGGCATCAACATCACCCGGTTTCAGACACTGCTGGCCCTGCACAGAAGCTACCTGACACCTGGCGATAGCAGC\n",
    "AGCGGATGGACAGCTGGTGCCGCCGCTTACTATGTGGGCTACCTGCAGCCTAGAACCTTCCTGCTGAAGTACAACGAGAACGGCACCATCA\n",
    "CCGACGCCGTGGATTGTGCTCTGGATCCTCTGAGCGAGACAAAGTGCACCCTGAAGTCCTTCACCGTGGAAAAGGGCATCTACCAGACCAG\n",
    "CAACTTCCGGGTGCAGCCCACCGAATCCATCGTGCGGTTCCCCAATATCACCAATCTGTGCCCCTTCGGCGAGGTGTTCAATGCCACCAGA\n",
    "TTCGCCTCTGTGTACGCCTGGAACCGGAAGCGGATCAGCAATTGCGTGGCCGACTACTCCGTGCTGTACAACTCCGCCAGCTTCAGCACCT\n",
    "TCAAGTGCTACGGCGTGTCCCCTACCAAGCTGAACGACCTGTGCTTCACAAACGTGTACGCCGACAGCTTCGTGATCCGGGGAGATGAAGT\n",
    "GCGGCAGATTGCCCCTGGACAGACAGGCAAGATCGCCGACTACAACTACAAGCTGCCCGACGACTTCACCGGCTGTGTGATTGCCTGGAAC\n",
    "AGCAACAACCTGGACTCCAAAGTCGGCGGCAACTACAATTACCTGTACCGGCTGTTCCGGAAGTCCAATCTGAAGCCCTTCGAGCGGGACA\n",
    "TCTCCACCGAGATCTATCAGGCCGGCAGCACCCCTTGTAACGGCGTGGAAGGCTTCAACTGCTACTTCCCACTGCAGTCCTACGGCTTTCA\n",
    "GCCCACAAATGGCGTGGGCTATCAGCCCTACAGAGTGGTGGTGCTGAGCTTCGAACTGCTGCATGCCCCTGCCACAGTGTGCGGCCCTAAG\n",
    "AAAAGCACCAATCTCGTGAAGAACAAATGCGTGAACTTCAACTTCAACGGCCTGACCGGCACCGGCGTGCTGACAGAGAGCAACAAGAAGT\n",
    "TCCTGCCATTCCAGCAGTTTGGCCGGGATATCGCCGATACCACAGACGCCGTTAGAGATCCCCAGACACTGGAAATCCTGGACATCACCCC\n",
    "TTGCAGCTTCGGCGGAGTGTCTGTGATCACCCCTGGCACCAACACCAGCAATCAGGTGGCAGTGCTGTACCAGGACGTGAACTGTACCGAA\n",
    "GTGCCCGTGGCCATTCACGCCGATCAGCTGACACCTACATGGCGGGTGTACTCCACCGGCAGCAATGTGTTTCAGACCAGAGCCGGCTGTC\n",
    "TGATCGGAGCCGAGCACGTGAACAATAGCTACGAGTGCGACATCCCCATCGGCGCTGGAATCTGCGCCAGCTACCAGACACAGACAAACAG\n",
    "CCCTCGGAGAGCCAGAAGCGTGGCCAGCCAGAGCATCATTGCCTACACAATGTCTCTGGGCGCCGAGAACAGCGTGGCCTACTCCAACAAC\n",
    "TCTATCGCTATCCCCACCAACTTCACCATCAGCGTGACCACAGAGATCCTGCCTGTGTCCATGACCAAGACCAGCGTGGACTGCACCATGT\n",
    "ACATCTGCGGCGATTCCACCGAGTGCTCCAACCTGCTGCTGCAGTACGGCAGCTTCTGCACCCAGCTGAATAGAGCCCTGACAGGGATCGC\n",
    "CGTGGAACAGGACAAGAACACCCAAGAGGTGTTCGCCCAAGTGAAGCAGATCTACAAGACCCCTCCTATCAAGGACTTCGGCGGCTTCAAT\n",
    "TTCAGCCAGATTCTGCCCGATCCTAGCAAGCCCAGCAAGCGGAGCTTCATCGAGGACCTGCTGTTCAACAAAGTGACACTGGCCGACGCCG\n",
    "GCTTCATCAAGCAGTATGGCGATTGTCTGGGCGACATTGCCGCCAGGGATCTGATTTGCGCCCAGAAGTTTAACGGACTGACAGTGCTGCC\n",
    "TCCTCTGCTGACCGATGAGATGATCGCCCAGTACACATCTGCCCTGCTGGCCGGCACAATCACAAGCGGCTGGACATTTGGAGCAGGCGCC\n",
    "GCTCTGCAGATCCCCTTTGCTATGCAGATGGCCTACCGGTTCAACGGCATCGGAGTGACCCAGAATGTGCTGTACGAGAACCAGAAGCTGA\n",
    "TCGCCAACCAGTTCAACAGCGCCATCGGCAAGATCCAGGACAGCCTGAGCAGCACAGCAAGCGCCCTGGGAAAGCTGCAGGACGTGGTCAA\n",
    "CCAGAATGCCCAGGCACTGAACACCCTGGTCAAGCAGCTGTCCTCCAACTTCGGCGCCATCAGCTCTGTGCTGAACGATATCCTGAGCAGA\n",
    "CTGGACCCTCCTGAGGCCGAGGTGCAGATCGACAGACTGATCACAGGCAGACTGCAGAGCCTCCAGACATACGTGACCCAGCAGCTGATCA\n",
    "GAGCCGCCGAGATTAGAGCCTCTGCCAATCTGGCCGCCACCAAGATGTCTGAGTGTGTGCTGGGCCAGAGCAAGAGAGTGGACTTTTGCGG\n",
    "CAAGGGCTACCACCTGATGAGCTTCCCTCAGTCTGCCCCTCACGGCGTGGTGTTTCTGCACGTGACATATGTGCCCGCTCAAGAGAAGAAT\n",
    "TTCACCACCGCTCCAGCCATCTGCCACGACGGCAAAGCCCACTTTCCTAGAGAAGGCGTGTTCGTGTCCAACGGCACCCATTGGTTCGTGA\n",
    "CACAGCGGAACTTCTACGAGCCCCAGATCATCACCACCGACAACACCTTCGTGTCTGGCAACTGCGACGTCGTGATCGGCATTGTGAACAA\n",
    "TACCGTGTACGACCCTCTGCAGCCCGAGCTGGACAGCTTCAAAGAGGAACTGGACAAGTACTTTAAGAACCACACAAGCCCCGACGTGGAC\n",
    "CTGGGCGATATCAGCGGAATCAATGCCAGCGTCGTGAACATCCAGAAAGAGATCGACCGGCTGAACGAGGTGGCCAAGAATCTGAACGAGA\n",
    "GCCTGATCGACCTGCAAGAACTGGGGAAGTACGAGCAGTACATCAAGTGGCCCTGGTACATCTGGCTGGGCTTTATCGCCGGACTGATTGC\n",
    "CATCGTGATGGTCACAATCATGCTGTGTTGCATGACCAGCTGCTGTAGCTGCCTGAAGGGCTGTTGTAGCTGTGGCAGCTGCTGCAAGTTC\n",
    "GACGAGGACGATTCTGAGCCCGTGCTGAAGGGCGTGAAACTGCACTACACATGATGACTCGAGCTGGTACTGCATGCACGCAATGCTAGCT\n",
    "GCCCCTTTCCCGTCCTGGGTACCCCGAGTCTCCCCCGACCTCGGGTCCCAGGTATGCTCCCACCTCCACCTGCCCCACTCACCACCTCTGC\n",
    "TAGTTCCAGACACCTCCCAAGCACGCAGCAATGCAGCTCAAAACGCTTAGCCTAGCCACACCCCCACGGGAAACAGCAGTGATTAACCTTT\n",
    "AGCAATAAACGAAAGTTTAACTAAGCTATACTAACCCCAGGGTTGGTCAATTTCGTGCCAGCCACACCCTGGAGCTAGCA'''\n",
    "BNT_Phizer = BNT_Phizer.replace(\"\\n\", \"\")\n",
    "\n",
    "Moderna = '''GGGAAATAAGAGAGAAAAGAAGAGTAAGAAGAAATATAAGACCCCGGCGCCGCCACCATGTTCGTGTTCCTGGTGCTGCTGCCCCTGGTGA\n",
    "GCAGCCAGTGCGTGAACCTGACCACCCGGACCCAGCTGCCACCAGCCTACACCAACAGCTTCACCCGGGGCGTCTACTACCCCGACAAGGT\n",
    "GTTCCGGAGCAGCGTCCTGCACAGCACCCAGGACCTGTTCCTGCCCTTCTTCAGCAACGTGACCTGGTTCCACGCCATCCACGTGAGCGGC\n",
    "ACCAACGGCACCAAGCGGTTCGACAACCCCGTGCTGCCCTTCAACGACGGCGTGTACTTCGCCAGCACCGAGAAGAGCAACATCATCCGGG\n",
    "GCTGGATCTTCGGCACCACCCTGGACAGCAAGACCCAGAGCCTGCTGATCGTGAATAACGCCACCAACGTGGTGATCAAGGTGTGCGAGTT\n",
    "CCAGTTCTGCAACGACCCCTTCCTGGGCGTGTACTACCACAAGAACAACAAGAGCTGGATGGAGAGCGAGTTCCGGGTGTACAGCAGCGCC\n",
    "AACAACTGCACCTTCGAGTACGTGAGCCAGCCCTTCCTGATGGACCTGGAGGGCAAGCAGGGCAACTTCAAGAACCTGCGGGAGTTCGTGT\n",
    "TCAAGAACATCGACGGCTACTTCAAGATCTACAGCAAGCACACCCCAATCAACCTGGTGCGGGATCTGCCCCAGGGCTTCTCAGCCCTGGA\n",
    "GCCCCTGGTGGACCTGCCCATCGGCATCAACATCACCCGGTTCCAGACCCTGCTGGCCCTGCACCGGAGCTACCTGACCCCAGGCGACAGC\n",
    "AGCAGCGGGTGGACAGCAGGCGCGGCTGCTTACTACGTGGGCTACCTGCAGCCCCGGACCTTCCTGCTGAAGTACAACGAGAACGGCACCA\n",
    "TCACCGACGCCGTGGACTGCGCCCTGGACCCTCTGAGCGAGACCAAGTGCACCCTGAAGAGCTTCACCGTGGAGAAGGGCATCTACCAGAC\n",
    "CAGCAACTTCCGGGTGCAGCCCACCGAGAGCATCGTGCGGTTCCCCAACATCACCAACCTGTGCCCCTTCGGCGAGGTGTTCAACGCCACC\n",
    "CGGTTCGCCAGCGTGTACGCCTGGAACCGGAAGCGGATCAGCAACTGCGTGGCCGACTACAGCGTGCTGTACAACAGCGCCAGCTTCAGCA\n",
    "CCTTCAAGTGCTACGGCGTGAGCCCCACCAAGCTGAACGACCTGTGCTTCACCAACGTGTACGCCGACAGCTTCGTGATCCGTGGCGACGA\n",
    "GGTGCGGCAGATCGCACCCGGCCAGACAGGCAAGATCGCCGACTACAACTACAAGCTGCCCGACGACTTCACCGGCTGCGTGATCGCCTGG\n",
    "AACAGCAACAACCTCGACAGCAAGGTGGGCGGCAACTACAACTACCTGTACCGGCTGTTCCGGAAGAGCAACCTGAAGCCCTTCGAGCGGG\n",
    "ACATCAGCACCGAGATCTACCAAGCCGGCTCCACCCCTTGCAACGGCGTGGAGGGCTTCAACTGCTACTTCCCTCTGCAGAGCTACGGCTT\n",
    "CCAGCCCACCAACGGCGTGGGCTACCAGCCCTACCGGGTGGTGGTGCTGAGCTTCGAGCTGCTGCACGCCCCAGCCACCGTGTGTGGCCCC\n",
    "AAGAAGAGCACCAACCTGGTGAAGAACAAGTGCGTGAACTTCAACTTCAACGGCCTTACCGGCACCGGCGTGCTGACCGAGAGCAACAAGA\n",
    "AATTCCTGCCCTTTCAGCAGTTCGGCCGGGACATCGCCGACACCACCGACGCTGTGCGGGATCCCCAGACCCTGGAGATCCTGGACATCAC\n",
    "CCCTTGCAGCTTCGGCGGCGTGAGCGTGATCACCCCAGGCACCAACACCAGCAACCAGGTGGCCGTGCTGTACCAGGACGTGAACTGCACC\n",
    "GAGGTGCCCGTGGCCATCCACGCCGACCAGCTGACACCCACCTGGCGGGTCTACAGCACCGGCAGCAACGTGTTCCAGACCCGGGCCGGTT\n",
    "GCCTGATCGGCGCCGAGCACGTGAACAACAGCTACGAGTGCGACATCCCCATCGGCGCCGGCATCTGTGCCAGCTACCAGACCCAGACCAA\n",
    "TTCACCCCGGAGGGCAAGGAGCGTGGCCAGCCAGAGCATCATCGCCTACACCATGAGCCTGGGCGCCGAGAACAGCGTGGCCTACAGCAAC\n",
    "AACAGCATCGCCATCCCCACCAACTTCACCATCAGCGTGACCACCGAGATTCTGCCCGTGAGCATGACCAAGACCAGCGTGGACTGCACCA\n",
    "TGTACATCTGCGGCGACAGCACCGAGTGCAGCAACCTGCTGCTGCAGTACGGCAGCTTCTGCACCCAGCTGAACCGGGCCCTGACCGGCAT\n",
    "CGCCGTGGAGCAGGACAAGAACACCCAGGAGGTGTTCGCCCAGGTGAAGCAGATCTACAAGACCCCTCCCATCAAGGACTTCGGCGGCTTC\n",
    "AACTTCAGCCAGATCCTGCCCGACCCCAGCAAGCCCAGCAAGCGGAGCTTCATCGAGGACCTGCTGTTCAACAAGGTGACCCTAGCCGACG\n",
    "CCGGCTTCATCAAGCAGTACGGCGACTGCCTCGGCGACATAGCCGCCCGGGACCTGATCTGCGCCCAGAAGTTCAACGGCCTGACCGTGCT\n",
    "GCCTCCCCTGCTGACCGACGAGATGATCGCCCAGTACACCAGCGCCCTGTTAGCCGGAACCATCACCAGCGGCTGGACTTTCGGCGCTGGA\n",
    "GCCGCTCTGCAGATCCCCTTCGCCATGCAGATGGCCTACCGGTTCAACGGCATCGGCGTGACCCAGAACGTGCTGTACGAGAACCAGAAGC\n",
    "TGATCGCCAACCAGTTCAACAGCGCCATCGGCAAGATCCAGGACAGCCTGAGCAGCACCGCTAGCGCCCTGGGCAAGCTGCAGGACGTGGT\n",
    "GAACCAGAACGCCCAGGCCCTGAACACCCTGGTGAAGCAGCTGAGCAGCAACTTCGGCGCCATCAGCAGCGTGCTGAACGACATCCTGAGC\n",
    "CGGCTGGACCCTCCCGAGGCCGAGGTGCAGATCGACCGGCTGATCACTGGCCGGCTGCAGAGCCTGCAGACCTACGTGACCCAGCAGCTGA\n",
    "TCCGGGCCGCCGAGATTCGGGCCAGCGCCAACCTGGCCGCCACCAAGATGAGCGAGTGCGTGCTGGGCCAGAGCAAGCGGGTGGACTTCTG\n",
    "CGGCAAGGGCTACCACCTGATGAGCTTTCCCCAGAGCGCACCCCACGGAGTGGTGTTCCTGCACGTGACCTACGTGCCCGCCCAGGAGAAG\n",
    "AACTTCACCACCGCCCCAGCCATCTGCCACGACGGCAAGGCCCACTTTCCCCGGGAGGGCGTGTTCGTGAGCAACGGCACCCACTGGTTCG\n",
    "TGACCCAGCGGAACTTCTACGAGCCCCAGATCATCACCACCGACAACACCTTCGTGAGCGGCAACTGCGACGTGGTGATCGGCATCGTGAA\n",
    "CAACACCGTGTACGATCCCCTGCAGCCCGAGCTGGACAGCTTCAAGGAGGAGCTGGACAAGTACTTCAAGAATCACACCAGCCCCGACGTG\n",
    "GACCTGGGCGACATCAGCGGCATCAACGCCAGCGTGGTGAACATCCAGAAGGAGATCGATCGGCTGAACGAGGTGGCCAAGAACCTGAACG\n",
    "AGAGCCTGATCGACCTGCAGGAGCTGGGCAAGTACGAGCAGTACATCAAGTGGCCCTGGTACATCTGGCTGGGCTTCATCGCCGGCCTGAT\n",
    "CGCCATCGTGATGGTGACCATCATGCTGTGCTGCATGACCAGCTGCTGCAGCTGCCTGAAGGGCTGTTGCAGCTGCGGCAGCTGCTGCAAG\n",
    "TTCGACGAGGACGACAGCGAGCCCGTGCTGAAGGGCGTGAAGCTGCACTACACCTGATAATAGGCTGGAGCCTCGGTGGCCTAGCTTCTTG\n",
    "CCCCTTGGGCCTCCCCCCAGCCCCTCCTCCCCTTCCTGCACCCGTACCCCCGTGGTCTTTGAATAAAGTCTGAGTGGGCGGCAAAAAAAAA'''\n",
    "\n",
    "Moderna = Moderna.replace(\"\\n\", \"\")"
   ]
  },
  {
   "cell_type": "markdown",
   "id": "e3752bf7-6276-4155-b4e6-f2d2594827d8",
   "metadata": {},
   "source": [
    "### 2.A) Aligning nucleotide sequences\n",
    "Now that we have two sequences, let's align them (arrange them to maximize similarities in their sequences). To do this, we are going to use the **Needleman-Wunsch algorithm**."
   ]
  },
  {
   "cell_type": "markdown",
   "id": "23fd004b",
   "metadata": {},
   "source": [
    "## Needleman-Wunsch Algorithm\n",
    "\n",
    "The **Needleman-Wunsch algorithm** is a **dynamic programming** approach for global sequence alignment. It aligns two sequences, *S1*​ and *S2*, by assigning scores for matches, mismatches, and gaps. The goal is to find the optimal alignment that maximizes the cumulative score.\n",
    "### Scoring Scheme:\n",
    "\n",
    "Let:\n",
    "\n",
    "* $s$ be the *match score*,\n",
    "* $d$ be the *mismatch score*,\n",
    "* $g$ be the *gap penalty*.\n",
    "\n",
    "The scoring matrix, $\\mathbf{M}$, is initialized as an $n\\times m$ matrix, where $n$ is the length of sequence *S1** and $m$ is the length of sequence *S2*.\n",
    "\n",
    "### Initialization:\n",
    "At the start of the algorithm, we initialize the scoring matrix as:\n",
    "\n",
    "$M_{i,0}=i\\cdot g$ for $i=0,1,\\ldots,n$\n",
    "\n",
    "$M_{0,j}=j\\cdot g$ for $j=0,1,\\ldots,m$\n",
    "\n",
    "### Recurrence Relation:\n",
    "\n",
    "The entries of the scoring matrix are filled using the recurrence relation:\n",
    "\n",
    "$M_{i,j} =\\max\\left[\n",
    "\\begin{matrix}  M_{i−1,j−1} + s &\\textrm{ if } S1[i]=S2[j] &\\textrm{ (match)}\\\\\n",
    "  M_{i−1,j−1} + d &\\textrm{ if } S1[i]\\ne S2[j] &\\textrm{ (mis-match)}\\\\\n",
    "  M_{i−1,j} + g  &&\\textrm{ (gap in S1)}\\\\\n",
    "  M_{i,j-1} + g  &&\\textrm{ (gap in S2)}\n",
    "  \\end{matrix}\\right]$\n",
    "\n",
    "### Traceback\n",
    "\n",
    "After filling the scoring matrix, the optimal alignment is found by traceback through the matrix. Starting from the bottom-right corner of the matrix, the traceback follows the maximum score path until reaching the top-left corner.\n",
    "\n",
    "\n",
    "Alignment=(aligned sequence *S1* , aligned sequence $S2$)\n",
    "\n",
    "### Example Needleman-Wunsch Algorithm Code:"
   ]
  },
  {
   "cell_type": "code",
   "execution_count": null,
   "id": "896ff63b",
   "metadata": {},
   "outputs": [],
   "source": [
    "import numpy as np\n",
    "\n",
    "def needleman_wunsch(seq1, seq2, match_score=1, mismatch_score=-1, gap_penalty=-1, verbose=False):\n",
    "    # Initialize the scoring matrix\n",
    "    rows, cols = len(seq1) + 1, len(seq2) + 1\n",
    "    score_matrix = np.zeros((rows, cols), dtype=int)\n",
    "\n",
    "    # Initialize the scoring matrix with gap penalties\n",
    "    for i in range(rows):\n",
    "        score_matrix[i, 0] = i * gap_penalty\n",
    "    for j in range(cols):\n",
    "        score_matrix[0, j] = j * gap_penalty\n",
    "\n",
    "    if verbose:\n",
    "        # Print the scoring matrix again, but with the sequences overlayed.\n",
    "        # This is a bit trickier because we need to pad the sequences to make them the same length\n",
    "        print(\"Initial Scoring Matrix:\")\n",
    "        print(\"     \" + \"  \".join(seq2))\n",
    "        for i in range(rows):\n",
    "            print(seq1[i-1] if i > 0 else \" \", \" \".join(str(score_matrix[i, j]) for j in range(cols)))\n",
    "\n",
    "    # Fill the scoring matrix using the recurrence relationship\n",
    "    for i in range(1, rows):\n",
    "        for j in range(1, cols):\n",
    "            match = score_matrix[i-1, j-1] + (match_score if seq1[i-1] == seq2[j-1] else mismatch_score)\n",
    "            delete = score_matrix[i-1, j] + gap_penalty\n",
    "            insert = score_matrix[i, j-1] + gap_penalty\n",
    "            score_matrix[i, j] = max(match, delete, insert)\n",
    "\n",
    "    if verbose:\n",
    "        # Print the scoring matrix again, but with the sequences overlayed.\n",
    "        # This is a bit trickier because we need to pad the sequences to make them the same length\n",
    "        print(\"\\nFinal Scoring Matrix:\")\n",
    "        print(\"     \" + \"  \".join(seq2))\n",
    "        for i in range(rows):\n",
    "            print(seq1[i-1] if i > 0 else \" \", \" \".join(str(score_matrix[i, j]) for j in range(cols)))\n",
    "\n",
    "    # Traceback to find the alignment of the two sequences\n",
    "    align1, align2 = '', ''\n",
    "    i, j = rows - 1, cols - 1\n",
    "\n",
    "    while i > 0 or j > 0:\n",
    "        current_score = score_matrix[i, j]\n",
    "        \n",
    "        # Calculate the score for each possible direction (i.e., diagonal, up, left)\n",
    "        # If we are at the top or left edge, we need to set the score for that direction to negative infinity\n",
    "        diagonal = score_matrix[i-1, j-1] if i > 0 and j > 0 else float('-inf')\n",
    "        up = score_matrix[i-1, j] if i > 0 else float('-inf')\n",
    "        left = score_matrix[i, j-1] if j > 0 else float('-inf')\n",
    "        \n",
    "        if current_score == diagonal + (match_score if seq1[i-1] == seq2[j-1] else mismatch_score):\n",
    "            align1 = seq1[i-1] + align1\n",
    "            align2 = seq2[j-1] + align2\n",
    "            i -= 1\n",
    "            j -= 1\n",
    "        elif current_score == up + gap_penalty:\n",
    "            align1 = seq1[i-1] + align1\n",
    "            align2 = '-' + align2\n",
    "            i -= 1\n",
    "        else:\n",
    "            align1 = '-' + align1\n",
    "            align2 = seq2[j-1] + align2\n",
    "            j -= 1\n",
    "\n",
    "    return align1, align2"
   ]
  },
  {
   "cell_type": "markdown",
   "id": "85a8afa9",
   "metadata": {},
   "source": [
    "#### Example usage\n",
    "Now let's try it out using a couple simple sequences:\n"
   ]
  },
  {
   "cell_type": "code",
   "execution_count": null,
   "id": "b1be8a72",
   "metadata": {},
   "outputs": [],
   "source": [
    "# seq1 = \"AGTACGCA\"\n",
    "# seq2 = \"TATGC\"\n",
    "seq1 = \"GGATCGAG\"\n",
    "seq2 = \"GACCG\"\n",
    "alignment1, alignment2 = needleman_wunsch(seq1, seq2, verbose=True)\n",
    "\n",
    "print(\"\\nSequence 1:\", alignment1)\n",
    "print(\"Sequence 2:\", alignment2)\n",
    "\n",
    "alignment = pairwise2.align.globalms(seq1, seq2, 1, -1, -1, -1)[0]\n",
    "print(alignment)\n",
    "\n"
   ]
  },
  {
   "cell_type": "code",
   "execution_count": null,
   "id": "6b55e09e",
   "metadata": {},
   "outputs": [],
   "source": [
    "# Now let's align the two vaccine sequences using the Needleman-Wunsch algorithm we just wrote\n",
    "alignment1, alignment2 = needleman_wunsch(BNT_Phizer, Moderna, verbose=False)\n",
    "\n",
    "print(\"\\nSequence 1:\", alignment1)\n",
    "print(\"Sequence 2:\", alignment2)"
   ]
  },
  {
   "cell_type": "code",
   "execution_count": null,
   "id": "2dc8dc15",
   "metadata": {},
   "outputs": [],
   "source": [
    "pairwise2.align.globalms?"
   ]
  },
  {
   "cell_type": "markdown",
   "id": "a7dc5b48",
   "metadata": {},
   "source": [
    "We can also do the same thing using the pairwise alignment function *pairwise2* from the *Bio* package."
   ]
  },
  {
   "cell_type": "code",
   "execution_count": null,
   "id": "77ee117f",
   "metadata": {},
   "outputs": [],
   "source": [
    "# Perform sequence alignment\n",
    "alignment_BNT_MOD = pairwise2.align.globalxx(BNT_Phizer, Moderna)[0]\n",
    "alignment_VIR_MOD = pairwise2.align.globalxx(corona_virus.seq, Moderna)[0]\n",
    "alignment_VIR_BNT = pairwise2.align.globalxx(corona_virus.seq, BNT_Phizer)[0]\n",
    "\n",
    "# Define a simple function for visualizing sequence alignments\n",
    "def visualize_alignment(alignment, headers):\n",
    "    seq1, seq2, score, begin, end = alignment\n",
    "    print(f\"Alignment Score: {score}\")\n",
    "\n",
    "# Display alignments\n",
    "print(\"Alignment between BNT_Phizer and Moderna:\")\n",
    "visualize_alignment(alignment_BNT_MOD, ['BioNTech', 'Moderna'])\n",
    "\n",
    "print(\"\\nAlignment between Virus and Moderna:\")\n",
    "visualize_alignment(alignment_VIR_MOD, ['Virus', 'Moderna'])\n",
    "\n",
    "print(\"\\nAlignment between Virus and BNT_Phizer:\")\n",
    "visualize_alignment(alignment_VIR_BNT, ['Virus', 'BioNTech'])"
   ]
  },
  {
   "cell_type": "markdown",
   "id": "8b6c06b9-87ef-4ac3-9f14-3e57d479397f",
   "metadata": {},
   "source": [
    "### 2.B) Saving alignments as FASTA files\n",
    "Sequence data is usually saved in *FASTA* formatted files, and saving our data in that format will come in handy later when we want to call other functions for visualization.  So, let's save our results to a file:"
   ]
  },
  {
   "cell_type": "code",
   "execution_count": null,
   "id": "88fe2803",
   "metadata": {
    "tags": []
   },
   "outputs": [],
   "source": [
    "# Create SeqRecord objects for the aligned sequences\n",
    "seq_record1 = SeqRecord(Seq(alignment_BNT_MOD[0]), id='BioNTech')\n",
    "seq_record2 = SeqRecord(Seq(alignment_BNT_MOD[1]), id='Moderna')\n",
    "\n",
    "# Save alignment to a .fa file\n",
    "alignment_records = [seq_record1, seq_record2]\n",
    "output_file = 'alignment_results.fa'\n",
    "SeqIO.write(alignment_records, output_file, 'fasta')"
   ]
  },
  {
   "cell_type": "markdown",
   "id": "00067347-ceab-4d15-a78c-2febec9e0132",
   "metadata": {},
   "source": [
    "### 2.C) Visualizing sequence allignments\n",
    "Now that we have the sequences aligned to one another, it is very helpful to generate a plot to visualize the two sequence's similarities.  Let's make a plot and save it to a file."
   ]
  },
  {
   "cell_type": "code",
   "execution_count": null,
   "id": "4ce3bce5",
   "metadata": {},
   "outputs": [],
   "source": [
    "msa_file = \"alignment_results.fa\"\n",
    "mv = MsaViz(msa_file, wrap_length=200, show_count=True)\n",
    "mv.savefig(\"BioNTech_vs_Moderna_Alignment.png\")"
   ]
  },
  {
   "cell_type": "markdown",
   "id": "dd4a1ad7-89ef-426d-9ee7-c35a3e32a1dc",
   "metadata": {},
   "source": [
    "#### Loading and displaying an image\n",
    "Now, let's load that image so that we can look at our results."
   ]
  },
  {
   "cell_type": "code",
   "execution_count": null,
   "id": "4b60c428",
   "metadata": {},
   "outputs": [],
   "source": [
    "# Load the image\n",
    "img = mpimg.imread('BioNTech_vs_Moderna_Alignment.png')\n",
    "\n",
    "# Display the image\n",
    "fig = plt.figure(figsize=(30, 30), dpi=200)\n",
    "plt.imshow(img)\n",
    "plt.axis('off')  # Hide axis\n",
    "plt.show()"
   ]
  },
  {
   "cell_type": "markdown",
   "id": "21ce32a9-9804-4fc1-a132-7bae1eea5f7a",
   "metadata": {
    "tags": []
   },
   "source": [
    "### 2.D) Comparing and aligning amino acid sequences"
   ]
  },
  {
   "cell_type": "code",
   "execution_count": null,
   "id": "1859866f-602d-4e5b-81c3-c4f85e7effb3",
   "metadata": {
    "tags": []
   },
   "outputs": [],
   "source": [
    "# Find all ORFs in each frame of the vaccine sequences\n",
    "seqModerna = Seq(Moderna)\n",
    "seqBNTPhizer = Seq(BNT_Phizer)\n",
    "\n",
    "# Now we can use our previous code to find the ORFs\n",
    "Moderna_orf_positions = find_all_orfs(seqModerna)\n",
    "BNT_Phizer_orf_positions = find_all_orfs(seqBNTPhizer)"
   ]
  },
  {
   "cell_type": "code",
   "execution_count": null,
   "id": "90e937b3-0100-4df0-9f26-7fa1be6acbb8",
   "metadata": {
    "tags": []
   },
   "outputs": [],
   "source": [
    "# Next, let's find the amino acid sequence for the largest open reading frame from each vaccine\n",
    "def pickLargestORF(orfs):\n",
    "    maxLength = 0;\n",
    "    for frame, orfs in enumerate(orfs):\n",
    "        for start, stop in orfs:\n",
    "            if (stop-start)>maxLength:\n",
    "                largestStart = start\n",
    "                largestStop = stop\n",
    "                maxLength = stop-start\n",
    "            \n",
    "    return largestStart, largestStop\n",
    "\n",
    "startMod, stopMod = pickLargestORF(Moderna_orf_positions)\n",
    "ModernaAA = seqModerna[startMod:stopMod].translate(to_stop=False)\n",
    "print(ModernaAA)\n",
    "\n",
    "startBNT, stopBNT = pickLargestORF(BNT_Phizer_orf_positions)\n",
    "BNTPhiAA = seqBNTPhizer[startBNT:stopBNT].translate(to_stop=False)\n",
    "print(BNTPhiAA)"
   ]
  },
  {
   "cell_type": "code",
   "execution_count": null,
   "id": "a2d6d720-0c4d-48a3-8c45-6fe01bdd9cb9",
   "metadata": {
    "tags": []
   },
   "outputs": [],
   "source": [
    "#Now, lets align the vaccine amino acid sequences to one another. For this, we are just going to copy some of \n",
    "# the codes from before.\n",
    "\n",
    "# Perform sequence alignment\n",
    "alignment_BNTaa_MODaa = pairwise2.align.globalxx(BNTPhiAA, ModernaAA)[0]\n",
    "\n",
    "# Create SeqRecord objects for the aligned sequences\n",
    "seq_record1 = SeqRecord(Seq(alignment_BNTaa_MODaa[0]), id='BioNTech')\n",
    "seq_record2 = SeqRecord(Seq(alignment_BNTaa_MODaa[1]), id='Moderna')\n",
    "\n",
    "# Save alignment to a .fa file\n",
    "alignment_records = [seq_record1, seq_record2]\n",
    "output_file = 'alignment_results_AA.fa'\n",
    "SeqIO.write(alignment_records, output_file, 'fasta')\n",
    "\n",
    "# Make and save an alignment figure\n",
    "mv = MsaViz(output_file, wrap_length=100, show_count=True)\n",
    "mv.savefig(\"BioNTech_vs_Moderna_Alignment.png\")\n",
    "\n",
    "# Load the image\n",
    "img = mpimg.imread('BioNTech_vs_Moderna_Alignment.png')\n",
    "\n",
    "# Display the image\n",
    "fig = plt.figure(figsize=(30, 30), dpi=200)\n",
    "plt.imshow(img)\n",
    "plt.axis('off')  # Hide axis\n",
    "plt.show()"
   ]
  },
  {
   "cell_type": "markdown",
   "id": "a5ab92be-bfff-4aa6-bb02-e7d07de6452b",
   "metadata": {},
   "source": [
    "## 3) Comparing and Aligning Multiple Protein Sequences\n",
    "Now, let's see how the Moderna and BNT/Phizer vaccinnes compare to the original virus sequence.  "
   ]
  },
  {
   "cell_type": "code",
   "execution_count": null,
   "id": "59dcee45-7caf-46f7-9e20-50c7e26eaa08",
   "metadata": {
    "tags": []
   },
   "outputs": [],
   "source": [
    "# Let's start by finding the 10 largest ORFs in the virus genome:\n",
    "def pickNLargestORF(orfs,N=5):\n",
    "    Lengths = []\n",
    "    Bounds = []\n",
    "    for frame, orf in enumerate(orfs):\n",
    "        for start, stop in orf:\n",
    "            Lengths.append(stop-start)\n",
    "            Bounds.append([start,stop])\n",
    "    enumerated_list = list(enumerate(Lengths))\n",
    "    sortedLengths = sorted(enumerated_list, key=lambda x: abs(x[1]), reverse=True)\n",
    " \n",
    "    # Extract indices of the N largest magnitude entries\n",
    "    largest_indices = [index for index, _ in sortedLengths[:N]]\n",
    "    \n",
    "    # Extract lengths and bounds for those indices\n",
    "    longestLengths = [Lengths[index] for index, _ in sortedLengths[:N]]\n",
    "    Bounds = [Bounds[index] for index, _ in sortedLengths[:N]]\n",
    "       \n",
    "    return Bounds\n",
    "\n",
    "longestORFbounds = pickNLargestORF(orf_positions,10)\n",
    "longestORFsequences = [corona_virus.seq[longestORFbounds[index][0]:].translate(to_stop=True) for index in range(10)]\n",
    "print(longestORFsequences)"
   ]
  },
  {
   "cell_type": "markdown",
   "id": "b1a82978-441c-4e63-a9c7-60ffa6e8a2e6",
   "metadata": {},
   "source": [
    "### 3.A) Running MUSCLE with a bash command"
   ]
  },
  {
   "cell_type": "code",
   "execution_count": null,
   "id": "51397e33-884f-4f98-8b70-9cad3923e2ea",
   "metadata": {
    "tags": []
   },
   "outputs": [],
   "source": [
    "# For multisequence alignments, we are going to want to use another, faster program that is needs to be\n",
    "# called from the command line. This can be done from python using terminal commands (BASH). Here, we a\n",
    "# going to use the program MUSCLE 5.\n",
    "\n",
    "seqFile = \"sequences.fa\"\n",
    "alignedFile = \"aligned_sequences.fa\"\n",
    "\n",
    "# Create a FASTA file with sequences\n",
    "with open(seqFile, \"w\") as handle:\n",
    "    handle.write(f\">Moderna\\n{ModernaAA}\\n\")\n",
    "    handle.write(f\">BNTPhi\\n{BNTPhiAA}\\n\")\n",
    "    for idx in enumerate(longestORFsequences):\n",
    "        handle.write(f\">seq\" + str(idx[0]) + \"\\n\" + str(idx[1]) + \"\\n\"), \n",
    "\n",
    "# Align the sequences using MUSCLE\n",
    "bashCommand = \"muscle -align \" + seqFile + \" -output \" + alignedFile\n",
    "os.system(bashCommand)\n",
    "\n",
    "# Make and save an alignment figure\n",
    "mv = MsaViz(alignedFile, wrap_length=100, show_count=True)\n",
    "mv.savefig(\"BioNTech_vs_Moderna_Alignment.png\")"
   ]
  },
  {
   "cell_type": "code",
   "execution_count": null,
   "id": "bb3329f2",
   "metadata": {},
   "outputs": [],
   "source": [
    "!echo $PATH"
   ]
  },
  {
   "cell_type": "code",
   "execution_count": null,
   "id": "5d97b535-fd38-49e0-9c5e-2c6b728b0b06",
   "metadata": {
    "tags": []
   },
   "outputs": [],
   "source": [
    "# Next, we load and pring the image to the screen.\n",
    "\n",
    "# Load the image\n",
    "img = mpimg.imread('BioNTech_vs_Moderna_Alignment.png')\n",
    "\n",
    "# Display the image\n",
    "fig = plt.figure(figsize=(200, 80), dpi=200)\n",
    "plt.imshow(img)\n",
    "plt.axis('off')  # Hide axis\n",
    "plt.show()"
   ]
  },
  {
   "cell_type": "markdown",
   "id": "c14c6777-44ba-43cf-9f46-b2068a40ff0f",
   "metadata": {},
   "source": [
    "## 4) Exploring protein sequences."
   ]
  },
  {
   "cell_type": "code",
   "execution_count": null,
   "id": "83f6d803-09f6-4736-93ff-1062ba23aba9",
   "metadata": {
    "tags": []
   },
   "outputs": [],
   "source": [
    "# Now that we know that the vaccine is recognizing a gene in the third largest ORF (index = 2), \n",
    "# let's redo the alignent just for the vaccines and for that ORF.\n",
    "proteinOfInterest = longestORFsequences[2]\n",
    "\n",
    "seqFile = \"sequences.fa\"\n",
    "alignedFile = \"aligned_sequences.fa\"\n",
    "\n",
    "# Create a FASTA file with sequences\n",
    "with open(seqFile, \"w\") as handle:\n",
    "    handle.write(f\">Moderna\\n{ModernaAA}\\n\")\n",
    "    handle.write(f\">BNTPhi\\n{BNTPhiAA}\\n\")\n",
    "    handle.write(f\">covidProtein\\n{proteinOfInterest}\\n\") \n",
    "\n",
    "bashCommand = \"muscle -align \" + seqFile + \" -output \" + alignedFile\n",
    "os.system(bashCommand)\n",
    "\n",
    "# Make and save an alignment figure\n",
    "mv = MsaViz(alignedFile, wrap_length=100, show_count=True)\n",
    "mv.savefig(\"BioNTech_vs_Moderna_Alignment.png\")"
   ]
  },
  {
   "cell_type": "code",
   "execution_count": null,
   "id": "259eb432-8e20-4fe2-a7f4-236dd314ae0e",
   "metadata": {
    "tags": []
   },
   "outputs": [],
   "source": [
    "# Load the image\n",
    "img = mpimg.imread('BioNTech_vs_Moderna_Alignment.png')\n",
    "\n",
    "# Display the image\n",
    "fig = plt.figure(figsize=(80, 80), dpi=200)\n",
    "plt.imshow(img)\n",
    "plt.axis('off')  # Hide axis\n",
    "plt.show()"
   ]
  },
  {
   "cell_type": "code",
   "execution_count": null,
   "id": "4e5ee2a0-33ea-4f84-be5e-67accc1e9861",
   "metadata": {
    "tags": []
   },
   "outputs": [],
   "source": [
    "# Calculate amino acid count and plot as a bar chart\n",
    "aa_counts = ProtParam.ProteinAnalysis(proteinOfInterest).count_amino_acids()\n",
    "plt.bar(aa_counts.keys(), aa_counts.values())\n",
    "plt.xlabel('Amino Acids')\n",
    "plt.ylabel('Count')\n",
    "plt.title('Amino Acid Content')\n",
    "plt.show()\n",
    "\n",
    "# Calculate atomic composition of the protein\n",
    "atomic_composition = ProtParam.ProteinAnalysis(proteinOfInterest).get_amino_acids_percent()\n",
    "\n",
    "# Calculate molecular weight of the protein\n",
    "molecular_weight = ProtParam.ProteinAnalysis(proteinOfInterest).molecular_weight()\n",
    "\n",
    "print(f\"The Molecular weight of this protein is {molecular_weight} Daltons.\")"
   ]
  },
  {
   "cell_type": "markdown",
   "id": "b08cacbd-7a1a-4a00-9efb-12be7932946c",
   "metadata": {},
   "source": [
    "# II) BLAST Searches\n",
    "\n",
    "## 1) Creating and running a BLAST query."
   ]
  },
  {
   "cell_type": "code",
   "execution_count": null,
   "id": "95a75703-4919-401f-971c-3b9bf78a63ca",
   "metadata": {
    "tags": []
   },
   "outputs": [],
   "source": [
    "# The BLAST (Basic Local Alignment Search Tool) software is widely used in bioinformatics for comparing sequences, \n",
    "# and its results are fundamental to the interpretation of a wide spectrum of biological data.\n",
    "# In this case, we will make a BLAST using a module of Biopython, the Bio.Blast module.\n",
    "\n",
    "# Slice protein to only use the first 200 nucleotides\n",
    "protein_sequence = proteinOfInterest[0:200]\n",
    "\n",
    "# Set up the BLAST query for the NCBI database \n",
    "# This submits the query to the NCBI server for comparison to their database of sequences\n",
    "# The 'protein-protein BLAST' (blastp) is used here\n",
    "blast_result = NCBIWWW.qblast(\"blastp\", \"nr\", protein_sequence)\n",
    "\n",
    "# In Python, BLAST process is asynchronous which means the script will need to wait and \n",
    "# retrieve the result once it’s ready. \n",
    "# The handle to the results is returned from the qblast() function and can then be parsed\n",
    "# The result would be in XML format which you would need to parse to get the actual BLAST_IDs \n",
    "# and associated information."
   ]
  },
  {
   "cell_type": "markdown",
   "id": "ba6f773a-3265-4194-a4a9-bfc48838c05d",
   "metadata": {},
   "source": [
    "### 1.A) Downloading the BLAST results."
   ]
  },
  {
   "cell_type": "code",
   "execution_count": null,
   "id": "cfe7d9e2-671d-4bbe-b1b7-e33b54b67e5b",
   "metadata": {
    "tags": []
   },
   "outputs": [],
   "source": [
    "# Here, we download and save the BLAST results as an XML file.\n",
    "blast_file_xml = \"proteinBLASTresult.xml\"\n",
    "with open(blast_file_xml, \"w\") as out_handle:\n",
    "    out_handle.write(blast_result.read())"
   ]
  },
  {
   "cell_type": "markdown",
   "id": "5fb2a46d-aeef-4820-b4df-2b5b52a61ac8",
   "metadata": {},
   "source": [
    "### 1.B) Opening and exploring BLAST results"
   ]
  },
  {
   "cell_type": "code",
   "execution_count": null,
   "id": "4f43c68d-abc0-4ee3-901a-65cbbc325134",
   "metadata": {
    "tags": []
   },
   "outputs": [],
   "source": [
    "# In order to read the downloaded BLAST XML result file, it is useful to convert it to a FASTA file.\n",
    "def convert_xml_2_fasta(blast_file_xml,blast_file_fasta):\n",
    "    # Parse the BLAST XML file using NCBIXML         \n",
    "    blast_records = NCBIXML.parse(open(blast_file_xml))\n",
    "    with open(blast_file_fasta, \"w\") as handle:\n",
    "        handle.write(f\">Original\\n{protein_sequence}\\n\")\n",
    "        for blast_record in blast_records:\n",
    "            for idx, alignment in enumerate(blast_record.alignments):\n",
    "                for hsp in alignment.hsps:\n",
    "                    handle.write(f\">Seq{idx}\\n{hsp.sbjct}\\n\")\n",
    "\n",
    "blast_file_xml = \"proteinBLASTresult.xml\"\n",
    "blast_file_fasta = \"proteinBLASTresult.fa\"\n",
    "convert_xml_2_fasta(blast_file_xml,blast_file_fasta)                "
   ]
  },
  {
   "cell_type": "code",
   "execution_count": null,
   "id": "3d013837-4344-40d1-9c1f-ea5b75e6102a",
   "metadata": {
    "tags": []
   },
   "outputs": [],
   "source": [
    "# Now that we have a fasta file, we can run MUSCLE again to compute its alignment:\n",
    "alignedFile = \"blast_file_aligned.afa\"\n",
    "\n",
    "# Use a terminal command (bash) to run MUSCLE in to align the sequences.        \n",
    "bashCommand = \"muscle -align \" + blast_file_fasta + \" -output \" + alignedFile\n",
    "os.system(bashCommand)\n",
    "\n",
    "# Make and save an alignment figure\n",
    "mv = MsaViz(alignedFile, wrap_length=100, show_count=True)\n",
    "mv.savefig(\"BLAST_Alignment.png\")\n",
    "\n",
    "# Load the image\n",
    "img = mpimg.imread('BLAST_Alignment.png')\n",
    "\n",
    "# Display the image\n",
    "fig = plt.figure(figsize=(80, 80), dpi=200)\n",
    "plt.imshow(img)\n",
    "plt.axis('off')  # Hide axis\n",
    "plt.show()"
   ]
  },
  {
   "cell_type": "markdown",
   "id": "2cc56acc-c6d2-46f3-97f5-b92253447410",
   "metadata": {},
   "source": [
    "## 2) Running BLAST in a background thread\n",
    "Often, we do not want to wait around until the blast call is complete.  For example, we may need to do this for a long list of sequences, or we might want to work on other tasks while we wait.  When this is the case, it can be helpful to run the code in the background on another thread.  As an example, the next cell shows an example where we run the BLAST on three different sequences all at the same time and in different threads."
   ]
  },
  {
   "cell_type": "code",
   "execution_count": null,
   "id": "d0b23ea7-1e57-4d3a-9c16-a7962aa0a399",
   "metadata": {
    "tags": []
   },
   "outputs": [],
   "source": [
    "# Function to run a BLAST query and save the result to a file\n",
    "def run_blast_query_and_save(query_sequence, result_file):\n",
    "    result_handle = NCBIWWW.qblast(\"blastp\", \"nr\", query_sequence)\n",
    "    with open(result_file, \"w\") as out_handle:\n",
    "        out_handle.write(result_handle.read())\n",
    "    return\n",
    "  \n",
    "def run_a_set_of_blast_searches(pMOD_list):\n",
    "    for idx, pMOD in enumerate(pMOD_list):\n",
    "        query_sequence = pMOD[:200]  # Extract the first 200 amino acids from the protein sequence\n",
    "        result_file = f\"blast_result_{idx + 1}.xml\"  # Generate a unique result file name\n",
    "        blast_thread = threading.Thread(target=run_blast_query_and_save, args=(query_sequence, result_file))\n",
    "        blast_thread.start()\n",
    "        print(\"Started BLAST Job: \" + result_file)\n",
    "    return\n",
    "        \n",
    "# Assuming pMOD_list contains multiple protein sequences\n",
    "pMOD_list = [protein_sequence, ModernaAA[0:200] , BNTPhiAA[0:200] ]  # Replace with your protein sequences\n",
    "\n",
    "# Call function to run BLAST queries for each protein sequence in a separate thread\n",
    "run_a_set_of_blast_searches(pMOD_list)"
   ]
  },
  {
   "cell_type": "markdown",
   "id": "b271519d-c368-4570-a437-2f002f11d8f3",
   "metadata": {},
   "source": [
    "## 3) Exploring Evolutionary History of Multiple Sequences\n",
    "To understand the evolutionary history of sequences, we can make phylogenetic trees. Let's try that with our BLAST results."
   ]
  },
  {
   "cell_type": "code",
   "execution_count": null,
   "id": "e8f82b46-b673-4697-a858-58e9e84080dc",
   "metadata": {},
   "outputs": [],
   "source": [
    "def makeTree(alignedFile):\n",
    "    # read our alignment file.\n",
    "    align = AlignIO.read(alignedFile, 'fasta')\n",
    "\n",
    "    # define sequence distance metric\n",
    "    calculator = DistanceCalculator('identity')\n",
    "    dm  = calculator.get_distance(align)\n",
    "\n",
    "    # construct tree\n",
    "    constructor = DistanceTreeConstructor()\n",
    "    return constructor.upgma(dm), dm\n",
    "\n",
    "tree, dm = makeTree(alignedFile)\n",
    "\n",
    "# plot tree\n",
    "fig, ax = plt.subplots(figsize=(8, 30))  # Adjust size as needed\n",
    "Phylo.draw(tree,axes=ax)\n",
    "Phylo.draw_ascii(tree)"
   ]
  },
  {
   "cell_type": "code",
   "execution_count": null,
   "id": "5b7fb287-6066-4752-9232-f6e4b3ccd08a",
   "metadata": {
    "tags": []
   },
   "outputs": [],
   "source": [
    "# The numerical distances can be found in the distance matrix \"dm\"\n",
    "print(dm)\n",
    "\n",
    "print(f'The phylogenetic distance between {dm.names[0]} and {dm.names[4]} is {dm[0,4]}')\n",
    "print(f'The phylogenetic distance between {dm.names[1]} and {dm.names[4]} is {dm[1,4]}')"
   ]
  },
  {
   "cell_type": "markdown",
   "id": "838cb70c-3c14-49d7-9072-060f66842b15",
   "metadata": {},
   "source": [
    "### 3.A) Explore different Covid variants."
   ]
  },
  {
   "cell_type": "code",
   "execution_count": null,
   "id": "aaeefcd5-822e-4021-9125-2e7cd357d784",
   "metadata": {
    "tags": []
   },
   "outputs": [],
   "source": [
    "variants = [[\"wuhan\",\"MN908947\"],\n",
    "    [\"delta\",\"OK091006\"],\n",
    "    [\"beta\",\"MZ433432\"],\n",
    "    [\"alpha\",\"MZ773928\"],\n",
    "    [\"omicron\",\"PP028445\"],\n",
    "    [\"OP208953\",\"OP208953\"],\n",
    "    [\"MT628218\",\"MT628218\"]]\n",
    "\n",
    "sequenceEntry = []\n",
    "for i in range(len(variants)):\n",
    "    print(i,variants[i][1])\n",
    "    sequenceEntry.append(get_genbank(variants[i][1]))"
   ]
  },
  {
   "cell_type": "code",
   "execution_count": null,
   "id": "dcfadb6e-ff4e-4fc2-bf10-fc5db6ff9374",
   "metadata": {
    "tags": []
   },
   "outputs": [],
   "source": [
    "variant_file_fasta = \"covid_variants.fa\"\n",
    "with open(variant_file_fasta, \"w\") as handle:\n",
    "    for idx in range(len(variants)):\n",
    "        # Find and record the third largest ORF for each sequence\n",
    "        orf_positions = find_all_orfs(sequenceEntry[idx].seq)\n",
    "        longestORFbounds = pickNLargestORF(orf_positions,5)\n",
    "        proteinOfInterest = sequenceEntry[idx].seq[longestORFbounds[2][0]:].translate(to_stop=True)\n",
    "\n",
    "        startMod, stopMod = pickLargestORF(Moderna_orf_positions)\n",
    "        handle.write(f\">{variants[idx][0]}\\n{proteinOfInterest}\\n\")"
   ]
  },
  {
   "cell_type": "code",
   "execution_count": null,
   "id": "1445a8b9-39f9-42a3-8b74-f30b9c28e57e",
   "metadata": {
    "tags": []
   },
   "outputs": [],
   "source": [
    "# Now that we have a fasta file, we can run MUSCLE again to \n",
    "# compute and plot its alignment:\n",
    "alignedFile = \"covid_variants_aligned.afa\"\n",
    "\n",
    "# Use a terminal command (bash) to run MUSCLE in to align the sequences.        \n",
    "bashCommand = \"muscle -align \" + variant_file_fasta + \" -output \" + alignedFile\n",
    "os.system(bashCommand)\n",
    "\n",
    "# Make and save an alignment figure\n",
    "mv = MsaViz(alignedFile, wrap_length=150, show_count=True)\n",
    "mv.savefig(\"Variant_Alignment.png\")\n",
    "\n",
    "# Load the image\n",
    "img = mpimg.imread('Variant_Alignment.png')\n",
    "\n",
    "# Display the image\n",
    "fig = plt.figure(figsize=(80, 80), dpi=200)\n",
    "plt.imshow(img)\n",
    "plt.axis('off')  # Hide axis\n",
    "plt.show()"
   ]
  },
  {
   "cell_type": "code",
   "execution_count": null,
   "id": "578d9f8b-9ba6-4d4e-b325-d4f1c095fc20",
   "metadata": {
    "tags": []
   },
   "outputs": [],
   "source": [
    "# Compute the phylogenetic tree using our previous function:\n",
    "tree = makeTree(alignedFile)\n",
    "# plot tree\n",
    "Phylo.draw_ascii(tree[0])"
   ]
  },
  {
   "cell_type": "code",
   "execution_count": null,
   "id": "450cbec7-52a1-4b5d-9b6d-97d3bd3ec712",
   "metadata": {
    "tags": []
   },
   "outputs": [],
   "source": [
    "# The numerical distances can be found in the distance matrix \"dm\"\n",
    "print(tree[1])\n",
    "\n",
    "print(f'The phylogenetic distance between {tree[1].names[0]} and {tree[1].names[4]} is {tree[1][0,4]}')\n",
    "print(f'The phylogenetic distance between {tree[1].names[1]} and {tree[1].names[4]} is {tree[1][1,4]}')"
   ]
  },
  {
   "cell_type": "markdown",
   "id": "b8997f4f-2376-47e2-8b82-50727664a2f6",
   "metadata": {},
   "source": [
    "Want to add some more variants to the plot.  See here for a much larger tree:\n",
    "https://www.bv-brc.org/view/VariantLineage/#view_tab=phlyogeny"
   ]
  }
 ],
 "metadata": {
  "kernelspec": {
   "display_name": "Python 3",
   "language": "python",
   "name": "python3"
  },
  "language_info": {
   "codemirror_mode": {
    "name": "ipython",
    "version": 3
   },
   "file_extension": ".py",
   "mimetype": "text/x-python",
   "name": "python",
   "nbconvert_exporter": "python",
   "pygments_lexer": "ipython3",
   "version": "3.1.0"
  },
  "toc": {
   "base_numbering": 1,
   "nav_menu": {},
   "number_sections": true,
   "sideBar": true,
   "skip_h1_title": false,
   "title_cell": "Table of Contents",
   "title_sidebar": "Contents",
   "toc_cell": false,
   "toc_position": {
    "height": "calc(100% - 180px)",
    "left": "10px",
    "top": "150px",
    "width": "448px"
   },
   "toc_section_display": true,
   "toc_window_display": true
  }
 },
 "nbformat": 4,
 "nbformat_minor": 5
}
